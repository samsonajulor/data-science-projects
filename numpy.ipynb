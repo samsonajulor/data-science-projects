{
  "nbformat": 4,
  "nbformat_minor": 0,
  "metadata": {
    "colab": {
      "name": "intro.ipynb",
      "provenance": [],
      "authorship_tag": "ABX9TyP4/DCO54i1sa+739D+Yjme",
      "include_colab_link": true
    },
    "kernelspec": {
      "name": "python3",
      "display_name": "Python 3"
    },
    "language_info": {
      "name": "python"
    }
  },
  "cells": [
    {
      "cell_type": "markdown",
      "metadata": {
        "id": "view-in-github",
        "colab_type": "text"
      },
      "source": [
        "<a href=\"https://colab.research.google.com/github/samsonajulor/data-science-projects/blob/main/numpy.ipynb\" target=\"_parent\"><img src=\"https://colab.research.google.com/assets/colab-badge.svg\" alt=\"Open In Colab\"/></a>"
      ]
    },
    {
      "cell_type": "code",
      "execution_count": null,
      "metadata": {
        "id": "iOQblY3b9iTB"
      },
      "outputs": [],
      "source": [
        "print('hello world')"
      ]
    },
    {
      "cell_type": "markdown",
      "source": [
        "### **Exercise 1**\n",
        "\n",
        "Check if all elements from the following arrays return the logical value True:\n",
        "\n",
        "A = np.array([[3, 2, 1, 4],[5, 2, 1, 6]]);\n",
        "B = np.array([[3, 2, 1, 4],[5, 2, 0, 6]]);\n",
        "C = np.array([[True,False, False],[True, True, True]]);\n",
        "D = np.array ( [0.1, 0.3]);\n",
        "\n",
        "Print result to the console as shown below.\n",
        "Tip: Use the function np.all().\n",
        "\n",
        "---\n",
        "\n",
        "**Expected result:**\n",
        "\n",
        "A: True\n",
        "B: False\n",
        "C: False\n",
        "D: True"
      ],
      "metadata": {
        "id": "Fzgyh-r8YJ6j"
      }
    },
    {
      "cell_type": "code",
      "source": [
        "import numpy as np\n",
        "\n",
        "\n",
        "A = np.array([[3, 2, 1, 4],\n",
        "              [5, 2, 1, 6]])\n",
        "\n",
        "B = np.array([[3, 2, 1, 4],\n",
        "              [5, 2, 0, 6]])\n",
        "\n",
        "C = np.array([[True, False, False],\n",
        "              [True, True, True]])\n",
        "\n",
        "D = np.array([0.1, 0.3])\n",
        "\n",
        "for name, array in zip(list('ABCD'), [A, B, C, D]):\n",
        "    print(f'{name}: {np.all(array)}')"
      ],
      "metadata": {
        "id": "aWjKpb4VaggF"
      },
      "execution_count": null,
      "outputs": []
    }
  ]
}