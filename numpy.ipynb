{
  "cells": [
    {
      "cell_type": "markdown",
      "metadata": {
        "colab_type": "text",
        "id": "view-in-github"
      },
      "source": [
        "<a href=\"https://colab.research.google.com/github/samsonajulor/data-science-projects/blob/main/numpy.ipynb\" target=\"_parent\"><img src=\"https://colab.research.google.com/assets/colab-badge.svg\" alt=\"Open In Colab\"/></a>"
      ]
    },
    {
      "cell_type": "code",
      "execution_count": null,
      "metadata": {
        "id": "iOQblY3b9iTB"
      },
      "outputs": [],
      "source": [
        "print('hello world')"
      ]
    },
    {
      "cell_type": "markdown",
      "metadata": {
        "id": "Fzgyh-r8YJ6j"
      },
      "source": [
        "### **Exercise 1**\n",
        "\n",
        "Check if all elements from the following arrays return the logical value True:\n",
        "\n",
        "```\n",
        "A = np.array([[3, 2, 1, 4],[5, 2, 1, 6]])\n",
        "B = np.array([[3, 2, 1, 4],[5, 2, 0, 6]])\n",
        "C = np.array([[True,False, False],[True, True, True]])\n",
        "D = np.array ( [0.1, 0.3])\n",
        "```\n",
        "\n",
        "Print result to the console as shown below.\n",
        "Tip: Use the function np.all().\n",
        "\n",
        "---\n",
        "\n",
        "**Expected result:**\n",
        "\n",
        "```\n",
        "A: True\n",
        "B: False\n",
        "C: False\n",
        "D: True\n",
        "```\n",
        "\n"
      ]
    },
    {
      "cell_type": "markdown",
      "metadata": {
        "id": "4YJzW7eEdeYR"
      },
      "source": []
    },
    {
      "cell_type": "code",
      "execution_count": null,
      "metadata": {
        "id": "aWjKpb4VaggF"
      },
      "outputs": [],
      "source": [
        "import numpy as np\n",
        "\n",
        "\n",
        "A = np.array([[3, 2, 1, 4],\n",
        "              [5, 2, 1, 6]])\n",
        "\n",
        "B = np.array([[3, 2, 1, 4],\n",
        "              [5, 2, 0, 6]])\n",
        "\n",
        "C = np.array([[True, False, False],\n",
        "              [True, True, True]])\n",
        "\n",
        "D = np.array([0.1, 0.3])\n",
        "\n",
        "for name, array in zip(list('ABCD'), [A, B, C, D]):\n",
        "    print(f'{name}: {np.all(array)}')"
      ]
    },
    {
      "cell_type": "markdown",
      "metadata": {
        "id": "gPr_eQ0vdh26"
      },
      "source": [
        "### **Exercise 2**\n",
        "Check if all elements from the following arrays return the logical value True along the axis with index 1:\n",
        "```\n",
        "A = np.array([[3, 2, 1, 4], [5, 2, 1, 6]])\n",
        "B = np.array([[3, 2, 1, 4], [5, 2, 0, 6]])\n",
        "C = np.array([true, false, false],[true, true, true])\n",
        "```\n",
        "**Print result to the console as shown below.** <br>\n",
        "Tip: Use the function np.all() with the axis argument. <br>\n",
        "**Expected result:**\n",
        "```\n",
        "A: [ True  True]\n",
        "B: [ True False]\n",
        "C: [False  True]\n",
        "```\n",
        "\n"
      ]
    },
    {
      "cell_type": "code",
      "execution_count": null,
      "metadata": {
        "colab": {
          "base_uri": "https://localhost:8080/"
        },
        "id": "PEWUQmakep5u",
        "outputId": "c6d238ac-eb73-4a9a-96f4-4717ace1af4d"
      },
      "outputs": [
        {
          "name": "stdout",
          "output_type": "stream",
          "text": [
            "A: [ True  True]\n",
            "B: [ True False]\n",
            "C: [False  True]\n"
          ]
        }
      ],
      "source": [
        "import numpy as np\n",
        " \n",
        " \n",
        "A = np.array([[3, 2, 1, 4],\n",
        "              [5, 2, 1, 6]])\n",
        " \n",
        "B = np.array([[3, 2, 1, 4],\n",
        "              [5, 2, 0, 6]])\n",
        " \n",
        "C = np.array([[True, False, False],\n",
        "              [True, True, True]])\n",
        " \n",
        "for name, array in zip(list('ABC'), [A, B, C]):\n",
        "    print(f'{name}: {np.all(array, axis=1)}')"
      ]
    },
    {
      "cell_type": "markdown",
      "metadata": {
        "id": "W9c69HI-GpSo"
      },
      "source": [
        "### **Exercise 3**\n",
        "Check if any elements from the following arrays return the logical value True\n",
        "\n",
        "\n",
        "```\n",
        "A = np.array([[0, 0, 0],\n",
        "              [0, 0, 0]])\n",
        "\n",
        "B = np.array([[0, 0, 0],\n",
        "              [0, 1, 0]])\n",
        "\n",
        "C = np.array([[False, False, False],\n",
        "              [True, False, False]])\n",
        "\n",
        "D = np.array([[0.1, 0.0]])\n",
        "```\n",
        "\n",
        "Print result to the console as shown below.<br>\n",
        "Tip: Use the np.any() function.<br>\n",
        "**Expected result:**\n",
        "\n",
        "\n",
        "```\n",
        "A: False\n",
        "B: True\n",
        "C: True\n",
        "D: True\n",
        "```\n",
        "\n",
        "\n",
        "\n"
      ]
    },
    {
      "cell_type": "code",
      "execution_count": 1,
      "metadata": {
        "colab": {
          "base_uri": "https://localhost:8080/"
        },
        "id": "bva_ICgZJeff",
        "outputId": "a4b4f19e-fc01-4972-c19c-aa1fcf8f0223"
      },
      "outputs": [
        {
          "name": "stdout",
          "output_type": "stream",
          "text": [
            "A: False\n",
            "B: True\n",
            "C: True\n",
            "D: True\n"
          ]
        }
      ],
      "source": [
        "import numpy as np\n",
        " \n",
        " \n",
        "A = np.array([[0, 0, 0],\n",
        "              [0, 0, 0]])\n",
        " \n",
        "B = np.array([[0, 0, 0],\n",
        "              [0, 1, 0]])\n",
        " \n",
        "C = np.array([[False, False, False],\n",
        "              [True, False, False]])\n",
        " \n",
        "D = np.array([[0.1, 0.0]])\n",
        " \n",
        "for name, array in zip(list('ABCD'), [A, B, C, D]):\n",
        "    print(f'{name}: {np.any(array)}')"
      ]
    },
    {
      "cell_type": "markdown",
      "metadata": {
        "id": "oABxD7JiKRG1"
      },
      "source": [
        "### **Exercise 4**\n",
        "Check if any elements from the following arrays return the logical value True. Along the axis of index 0.\n",
        "\n",
        "\n",
        "```\n",
        "import numpy as np\n",
        "\n",
        "\n",
        "A = np.array([[0, 0, 0],\n",
        "              [0, 0, 0]])\n",
        "\n",
        "B = np.array([[0, 0, 0],\n",
        "              [0, 1, 0]])\n",
        "\n",
        "C = np.array([[False, False, False],\n",
        "              [True, False, False]])\n",
        "\n",
        "D = np.array([[0.1, 0.0]])\n",
        "```\n",
        "Print result to the console as shown below.<br>\n",
        "Tip: Use the np.any() function.<br>\n",
        "**Expected result:**\n",
        "\n",
        "\n",
        "```\n",
        "A: [False False False]\n",
        "B: [False  True False]\n",
        "C: [ True False False]\n",
        "D: [ True False]\n",
        "```\n",
        "\n",
        "\n",
        "\n"
      ]
    },
    {
      "cell_type": "code",
      "execution_count": 2,
      "metadata": {
        "colab": {
          "base_uri": "https://localhost:8080/"
        },
        "id": "OQzPkxYFKjIn",
        "outputId": "bd4180f3-9769-4c61-bad7-b9fc98a85a5a"
      },
      "outputs": [
        {
          "name": "stdout",
          "output_type": "stream",
          "text": [
            "A: [False False False]\n",
            "B: [False  True False]\n",
            "C: [ True False False]\n",
            "D: [ True False]\n"
          ]
        }
      ],
      "source": [
        "import numpy as np\n",
        " \n",
        " \n",
        "A = np.array([[0, 0, 0],\n",
        "              [0, 0, 0]])\n",
        " \n",
        "B = np.array([[0, 0, 0],\n",
        "              [0, 1, 0]])\n",
        " \n",
        "C = np.array([[False, False, False],\n",
        "              [True, False, False]])\n",
        " \n",
        "D = np.array([[0.1, 0.0]])\n",
        " \n",
        "for name, array in zip(list('ABCD'), [A, B, C, D]):\n",
        "    print(f'{name}: {np.any(array, axis=0)}')"
      ]
    },
    {
      "cell_type": "markdown",
      "metadata": {
        "id": "2IxIPEyYLNAz"
      },
      "source": [
        "### **Exercise 5**\n",
        "Check if the following array has missing data (np.nan).\n",
        "\n",
        "\n",
        "```\n",
        "A = np.array([[3, 2, 1, np.nan],\n",
        "              [5, np.nan, 1, 6]])\n",
        "```\n",
        "Print result to the console as shown below.<br>\n",
        "Tip: Use the np.isnan() function.<br>\n",
        "**Expected result:**\n",
        "```\n",
        "[[False False False  True]\n",
        " [False  True False False]]\n",
        "```\n",
        "\n",
        "\n",
        "\n"
      ]
    },
    {
      "cell_type": "code",
      "execution_count": 3,
      "metadata": {
        "colab": {
          "base_uri": "https://localhost:8080/"
        },
        "id": "eVhscQdGMGym",
        "outputId": "3028764b-3fa0-484a-c6d8-9d03ec57aefa"
      },
      "outputs": [
        {
          "name": "stdout",
          "output_type": "stream",
          "text": [
            "[[False False False  True]\n",
            " [False  True False False]]\n"
          ]
        }
      ],
      "source": [
        "import numpy as np\n",
        " \n",
        "A = np.array([[3, 2, 1, np.nan],\n",
        "              [5, np.nan, 1, 6]])\n",
        "\n",
        "print(np.isnan(A))"
      ]
    },
    {
      "cell_type": "markdown",
      "metadata": {
        "id": "YU6PPdRcM4GV"
      },
      "source": [
        "### **Exercise 6**\n",
        "Check if the following array are equal element wise.\n",
        "\n",
        "```\n",
        "A = np.array([0.4, 0.5, 0.3])\n",
        "B = np.array([0.39999999, 0.5000001, 0.3])\n",
        "```\n",
        "Print result to the console as shown below.<br>\n",
        "Tip: Use the np.allclose() function with default parameters.<br>\n",
        "**Expected result:**\n",
        "\n",
        "\n",
        "```\n",
        "True\n",
        "```\n",
        "\n",
        "\n",
        "\n"
      ]
    },
    {
      "cell_type": "code",
      "execution_count": 4,
      "metadata": {
        "colab": {
          "base_uri": "https://localhost:8080/"
        },
        "id": "ZWbGBnz8N5TC",
        "outputId": "cdade0b3-1b88-4a38-ef88-0ad147165ae4"
      },
      "outputs": [
        {
          "name": "stdout",
          "output_type": "stream",
          "text": [
            "True\n"
          ]
        }
      ],
      "source": [
        "import numpy as np\n",
        " \n",
        " \n",
        "A = np.array([0.4, 0.5, 0.3])\n",
        "B = np.array([0.39999999, 0.5000001, 0.3])\n",
        " \n",
        "print(np.allclose(A, B))"
      ]
    },
    {
      "cell_type": "markdown",
      "metadata": {
        "id": "DcxdGHd2OK4L"
      },
      "source": [
        "### **Exercise 7**\n",
        "Check if the following array are equal element wise.\n",
        "\n",
        "```\n",
        "A = np.array([0.4, 0.5, 0.3])\n",
        "B = np.array([0.3999999999, 0.5000000001, 0.3])\n",
        "```\n",
        "Print result to the console as shown below.<br>\n",
        "Tip: Use the comparison operator (==) or the np.equal() function.<br>\n",
        "**Expected result:**\n",
        "```\n",
        "[False False  True]\n",
        "```\n"
      ]
    },
    {
      "cell_type": "code",
      "execution_count": 5,
      "metadata": {
        "colab": {
          "base_uri": "https://localhost:8080/"
        },
        "id": "W7QIaJgIPIXX",
        "outputId": "9a468642-1f0c-4afa-c904-b232dee3b68a"
      },
      "outputs": [
        {
          "name": "stdout",
          "output_type": "stream",
          "text": [
            "[False False  True]\n"
          ]
        }
      ],
      "source": [
        "import numpy as np\n",
        " \n",
        " \n",
        "A = np.array([0.4, 0.5, 0.3])\n",
        "B = np.array([0.3999999999, 0.5000000001, 0.3])\n",
        " \n",
        "print(np.equal(A, B))"
      ]
    }
  ],
  "metadata": {
    "colab": {
      "authorship_tag": "ABX9TyNged1nSxmeCBbU5iDpLxGB",
      "collapsed_sections": [],
      "include_colab_link": true,
      "name": "numpy.ipynb",
      "provenance": []
    },
    "kernelspec": {
      "display_name": "Python 3.10.2 64-bit",
      "language": "python",
      "name": "python3"
    },
    "language_info": {
      "name": "python",
      "version": "3.10.2"
    },
    "vscode": {
      "interpreter": {
        "hash": "369f2c481f4da34e4445cda3fffd2e751bd1c4d706f27375911949ba6bb62e1c"
      }
    }
  },
  "nbformat": 4,
  "nbformat_minor": 0
}
