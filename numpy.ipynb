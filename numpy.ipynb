{
  "nbformat": 4,
  "nbformat_minor": 0,
  "metadata": {
    "colab": {
      "name": "numpy.ipynb",
      "provenance": [],
      "authorship_tag": "ABX9TyOyabJ/9Xx3i3MuVGX0bGvJ",
      "include_colab_link": true
    },
    "kernelspec": {
      "name": "python3",
      "display_name": "Python 3"
    },
    "language_info": {
      "name": "python"
    }
  },
  "cells": [
    {
      "cell_type": "markdown",
      "metadata": {
        "id": "view-in-github",
        "colab_type": "text"
      },
      "source": [
        "<a href=\"https://colab.research.google.com/github/samsonajulor/data-science-projects/blob/main/numpy.ipynb\" target=\"_parent\"><img src=\"https://colab.research.google.com/assets/colab-badge.svg\" alt=\"Open In Colab\"/></a>"
      ]
    },
    {
      "cell_type": "code",
      "execution_count": null,
      "metadata": {
        "id": "iOQblY3b9iTB"
      },
      "outputs": [],
      "source": [
        "print('hello world')"
      ]
    },
    {
      "cell_type": "markdown",
      "source": [
        "### **Exercise 1**\n",
        "\n",
        "Check if all elements from the following arrays return the logical value True:\n",
        "\n",
        "```\n",
        "A = np.array([[3, 2, 1, 4],[5, 2, 1, 6]])\n",
        "B = np.array([[3, 2, 1, 4],[5, 2, 0, 6]])\n",
        "C = np.array([[True,False, False],[True, True, True]])\n",
        "D = np.array ( [0.1, 0.3])\n",
        "```\n",
        "\n",
        "Print result to the console as shown below.\n",
        "Tip: Use the function np.all().\n",
        "\n",
        "---\n",
        "\n",
        "**Expected result:**\n",
        "\n",
        "```\n",
        "A: True\n",
        "B: False\n",
        "C: False\n",
        "D: True\n",
        "```\n",
        "\n"
      ],
      "metadata": {
        "id": "Fzgyh-r8YJ6j"
      }
    },
    {
      "cell_type": "markdown",
      "source": [
        ""
      ],
      "metadata": {
        "id": "4YJzW7eEdeYR"
      }
    },
    {
      "cell_type": "code",
      "source": [
        "import numpy as np\n",
        "\n",
        "\n",
        "A = np.array([[3, 2, 1, 4],\n",
        "              [5, 2, 1, 6]])\n",
        "\n",
        "B = np.array([[3, 2, 1, 4],\n",
        "              [5, 2, 0, 6]])\n",
        "\n",
        "C = np.array([[True, False, False],\n",
        "              [True, True, True]])\n",
        "\n",
        "D = np.array([0.1, 0.3])\n",
        "\n",
        "for name, array in zip(list('ABCD'), [A, B, C, D]):\n",
        "    print(f'{name}: {np.all(array)}')"
      ],
      "metadata": {
        "id": "aWjKpb4VaggF"
      },
      "execution_count": null,
      "outputs": []
    },
    {
      "cell_type": "markdown",
      "source": [
        "### **Exercise 2**\n",
        "Check if all elements from the following arrays return the logical value True along the axis with index 1:\n",
        "```\n",
        "A = np.array([[3, 2, 1, 4], [5, 2, 1, 6]])\n",
        "B = np.array([[3, 2, 1, 4], [5, 2, 0, 6]])\n",
        "C = np.array([true, false, false],[true, true, true])\n",
        "```\n",
        "**Print result to the console as shown below.** <br>\n",
        "Tip: Use the function np.all() with the axis argument. <br>\n",
        "**Expected result:**\n",
        "```\n",
        "A: [ True  True]\n",
        "B: [ True False]\n",
        "C: [False  True]\n",
        "```\n",
        "\n"
      ],
      "metadata": {
        "id": "gPr_eQ0vdh26"
      }
    },
    {
      "cell_type": "code",
      "source": [
        "import numpy as np\n",
        " \n",
        " \n",
        "A = np.array([[3, 2, 1, 4],\n",
        "              [5, 2, 1, 6]])\n",
        " \n",
        "B = np.array([[3, 2, 1, 4],\n",
        "              [5, 2, 0, 6]])\n",
        " \n",
        "C = np.array([[True, False, False],\n",
        "              [True, True, True]])\n",
        " \n",
        "for name, array in zip(list('ABC'), [A, B, C]):\n",
        "    print(f'{name}: {np.all(array, axis=1)}')"
      ],
      "metadata": {
        "colab": {
          "base_uri": "https://localhost:8080/"
        },
        "id": "PEWUQmakep5u",
        "outputId": "c6d238ac-eb73-4a9a-96f4-4717ace1af4d"
      },
      "execution_count": null,
      "outputs": [
        {
          "output_type": "stream",
          "name": "stdout",
          "text": [
            "A: [ True  True]\n",
            "B: [ True False]\n",
            "C: [False  True]\n"
          ]
        }
      ]
    },
    {
      "cell_type": "markdown",
      "source": [
        "### **Exercise 3**\n",
        "Check if any elements from the following arrays return the logical value True\n",
        "\n",
        "\n",
        "```\n",
        "A = np.array([[0, 0, 0],\n",
        "              [0, 0, 0]])\n",
        "\n",
        "B = np.array([[0, 0, 0],\n",
        "              [0, 1, 0]])\n",
        "\n",
        "C = np.array([[False, False, False],\n",
        "              [True, False, False]])\n",
        "\n",
        "D = np.array([[0.1, 0.0]])\n",
        "```\n",
        "\n"
      ],
      "metadata": {
        "id": "W9c69HI-GpSo"
      }
    }
  ]
}